{
 "cells": [
  {
   "cell_type": "code",
   "execution_count": 106,
   "metadata": {
    "datalore": {
     "hide_input_from_viewers": true,
     "hide_output_from_viewers": true,
     "node_id": "C0ypE9tKEDGtqkcLNLxwFK",
     "type": "CODE"
    }
   },
   "outputs": [],
   "source": [
    "# pip install entsoe-py"
   ]
  },
  {
   "cell_type": "code",
   "execution_count": 107,
   "metadata": {
    "datalore": {
     "hide_input_from_viewers": true,
     "hide_output_from_viewers": true,
     "node_id": "tTnS9nFMxigTCqMK8iljSN",
     "type": "CODE"
    }
   },
   "outputs": [],
   "source": [
    "import pandas as pd\n",
    "from entsoe import EntsoeRawClient\n",
    "from entsoe import EntsoePandasClient\n",
    "import numpy as np\n",
    "import matplotlib.pyplot as plt\n",
    "import itertools\n",
    "import collections\n",
    "from multiprocessing.pool import ThreadPool\n",
    "from itertools import product"
   ]
  },
  {
   "cell_type": "code",
   "execution_count": 108,
   "metadata": {
    "datalore": {
     "hide_input_from_viewers": true,
     "hide_output_from_viewers": true,
     "node_id": "nbXYINBrh2BhAgGY14hwJu",
     "type": "CODE"
    }
   },
   "outputs": [],
   "source": [
    "client = EntsoePandasClient(api_key = '000ce54c-70cd-4007-ace0-6c156aa696d1') "
   ]
  },
  {
   "cell_type": "code",
   "execution_count": 109,
   "metadata": {
    "datalore": {
     "hide_input_from_viewers": true,
     "hide_output_from_viewers": true,
     "node_id": "xBl2rTb9gQPkmNHrfP3db1",
     "type": "CODE"
    }
   },
   "outputs": [],
   "source": [
    "time = pd.date_range(start='2015-01-01 00:00:00+01:00', end = '2023-12-31 00:00:00+01:00', freq = 'h')"
   ]
  },
  {
   "cell_type": "code",
   "execution_count": 110,
   "metadata": {},
   "outputs": [],
   "source": [
    "BiddingZone = ['IT_SARD', 'IT_SICI', 'IT_SUD', 'LV', 'ME', 'MK',\n",
    "               'NL', 'NO_1', 'NO_2', 'NO_3', 'NO_4', 'NO_5', 'PL',\n",
    "               'PT', 'RO', 'RS', 'SE_1', 'SE_2', 'SE_3', 'SE_4', 'SI', 'SK']"
   ]
  },
  {
   "cell_type": "code",
   "execution_count": 166,
   "metadata": {
    "datalore": {
     "hide_input_from_viewers": true,
     "hide_output_from_viewers": true,
     "node_id": "gkjHAlKCPZs8ztjJoTKijM",
     "type": "CODE"
    }
   },
   "outputs": [],
   "source": [
    "windSolarData = client.query_wind_and_solar_forecast(country_code='SE_2',\n",
    "                                                     start = pd.Timestamp('20150101', tz='Europe/Brussels'),\n",
    "                                                     end = pd.Timestamp('20231231', tz='Europe/Brussels'),\n",
    "                                                     psr_type=None)"
   ]
  },
  {
   "cell_type": "code",
   "execution_count": 167,
   "metadata": {},
   "outputs": [],
   "source": [
    "windSolarData.to_csv(\"query_aggregate_water_reservoirs_and_hydro_storage_SE_2.csv\", index=True)"
   ]
  },
  {
   "cell_type": "code",
   "execution_count": 94,
   "metadata": {
    "datalore": {
     "hide_input_from_viewers": true,
     "hide_output_from_viewers": true,
     "node_id": "F8Le9M4ZRcvBxoessGOkaL",
     "type": "CODE"
    }
   },
   "outputs": [],
   "source": [
    "df_IT_SARD = pd.read_csv(\"query_aggregate_water_reservoirs_and_hydro_storage_IT_SARD.csv\")\n",
    "df_IT_SICI = pd.read_csv(\"query_aggregate_water_reservoirs_and_hydro_storage_IT_SICI.csv\")\n",
    "df_IT_SUD = pd.read_csv(\"query_aggregate_water_reservoirs_and_hydro_storage_IT_SUD.csv\")\n",
    "df_LV = pd.read_csv(\"query_aggregate_water_reservoirs_and_hydro_storage_LV.csv\")\n",
    "df_ME = pd.read_csv(\"query_aggregate_water_reservoirs_and_hydro_storage_ME.csv\")\n",
    "df_MK = pd.read_csv(\"query_aggregate_water_reservoirs_and_hydro_storage_MK.csv\")\n",
    "df_NL = pd.read_csv(\"query_aggregate_water_reservoirs_and_hydro_storage_NL.csv\")\n",
    "df_NO_1 = pd.read_csv(\"query_aggregate_water_reservoirs_and_hydro_storage_NO_1.csv\")\n",
    "df_NO_2 = pd.read_csv(\"query_aggregate_water_reservoirs_and_hydro_storage_NO_2.csv\")\n",
    "df_NO_3 = pd.read_csv(\"query_aggregate_water_reservoirs_and_hydro_storage_NO_3.csv\")\n",
    "df_NO_4 = pd.read_csv(\"query_aggregate_water_reservoirs_and_hydro_storage_NO_4.csv\")\n",
    "df_NO_5 = pd.read_csv(\"query_aggregate_water_reservoirs_and_hydro_storage_NO_5.csv\")\n",
    "df_PL = pd.read_csv(\"query_aggregate_water_reservoirs_and_hydro_storage_PL.csv\")\n",
    "df_PT = pd.read_csv(\"query_aggregate_water_reservoirs_and_hydro_storage_PT.csv\")\n",
    "df_RO = pd.read_csv(\"query_aggregate_water_reservoirs_and_hydro_storage_RO.csv\")\n",
    "# df_RS = pd.read_csv(\"query_aggregate_water_reservoirs_and_hydro_storage_RS.csv\")\n",
    "df_SE_1 = pd.read_csv(\"query_aggregate_water_reservoirs_and_hydro_storage_SE_1.csv\")\n",
    "df_SE_2 = pd.read_csv(\"query_aggregate_water_reservoirs_and_hydro_storage_SE_2.csv\")\n",
    "df_SE_3 = pd.read_csv(\"query_aggregate_water_reservoirs_and_hydro_storage_SE_3.csv\")\n",
    "df_SE_4 = pd.read_csv(\"query_aggregate_water_reservoirs_and_hydro_storage_SE_4.csv\")\n",
    "df_SI = pd.read_csv(\"query_aggregate_water_reservoirs_and_hydro_storage_SI.csv\")\n",
    "df_SK = pd.read_csv(\"query_aggregate_water_reservoirs_and_hydro_storage_SK.csv\")\n"
   ]
  },
  {
   "cell_type": "code",
   "execution_count": 95,
   "metadata": {
    "datalore": {
     "hide_input_from_viewers": true,
     "hide_output_from_viewers": true,
     "node_id": "nSliXJBoThoRgYEnUIMxOf",
     "type": "CODE"
    }
   },
   "outputs": [],
   "source": [
    "def get_country_index(filename):\n",
    "    # Assumes the country code is right after the last underscore and before \".csv\"\n",
    "    return filename.split('_')[-1].split('.')[0]     "
   ]
  },
  {
   "cell_type": "code",
   "execution_count": 96,
   "metadata": {},
   "outputs": [],
   "source": [
    "df_IT_SARD['country_index'] = get_country_index(\"query_aggregate_water_reservoirs_and_hydro_storage_IT_SARD.csv\")\n",
    "df_IT_SICI['country_index'] = get_country_index(\"query_aggregate_water_reservoirs_and_hydro_storage_IT_SICI.csv\")\n",
    "df_IT_SUD['country_index'] = get_country_index(\"query_aggregate_water_reservoirs_and_hydro_storage_IT_SUD.csv\")\n",
    "# df_LV['country_index'] = get_country_index(\"query_aggregate_water_reservoirs_and_hydro_storage_LV.csv\")\n",
    "df_ME['country_index'] = get_country_index(\"query_aggregate_water_reservoirs_and_hydro_storage_ME.csv\")\n",
    "df_MK['country_index'] = get_country_index(\"query_aggregate_water_reservoirs_and_hydro_storage_MK.csv\")\n",
    "df_NL['country_index'] = get_country_index(\"query_aggregate_water_reservoirs_and_hydro_storage_NL.csv\")\n",
    "df_NO_1['country_index'] = get_country_index(\"query_aggregate_water_reservoirs_and_hydro_storage_NO_1.csv\")\n",
    "df_NO_2['country_index'] = get_country_index(\"query_aggregate_water_reservoirs_and_hydro_storage_NO_2.csv\")\n",
    "df_NO_3['country_index'] = get_country_index(\"query_aggregate_water_reservoirs_and_hydro_storage_NO_3.csv\")\n",
    "df_NO_4['country_index'] = get_country_index(\"query_aggregate_water_reservoirs_and_hydro_storage_NO_4.csv\")\n",
    "df_NO_5['country_index'] = get_country_index(\"query_aggregate_water_reservoirs_and_hydro_storage_NO_5.csv\")\n",
    "df_PL['country_index'] = get_country_index(\"query_aggregate_water_reservoirs_and_hydro_storage_PL.csv\")\n",
    "df_PT['country_index'] = get_country_index(\"query_aggregate_water_reservoirs_and_hydro_storage_PT.csv\")\n",
    "df_RO['country_index'] = get_country_index(\"query_aggregate_water_reservoirs_and_hydro_storage_RO.csv\")\n",
    "# df_RS['country_index'] = get_country_index(\"query_aggregate_water_reservoirs_and_hydro_storage_RS.csv\")\n",
    "df_SE_1['country_index'] = get_country_index(\"query_aggregate_water_reservoirs_and_hydro_storage_SE_1.csv\")\n",
    "df_SE_2['country_index'] = get_country_index(\"query_aggregate_water_reservoirs_and_hydro_storage_SE_2.csv\")\n",
    "df_SE_3['country_index'] = get_country_index(\"query_aggregate_water_reservoirs_and_hydro_storage_SE_3.csv\")\n",
    "df_SE_4['country_index'] = get_country_index(\"query_aggregate_water_reservoirs_and_hydro_storage_SE_4.csv\")\n",
    "df_SI['country_index'] = get_country_index(\"query_aggregate_water_reservoirs_and_hydro_storage_SI.csv\")\n",
    "df_SK['country_index'] = get_country_index(\"query_aggregate_water_reservoirs_and_hydro_storage_SK.csv\")\n"
   ]
  },
  {
   "cell_type": "code",
   "execution_count": 99,
   "metadata": {
    "datalore": {
     "hide_input_from_viewers": true,
     "hide_output_from_viewers": true,
     "node_id": "CQEgBopquEheJefEQqfjTJ",
     "type": "CODE"
    }
   },
   "outputs": [
    {
     "data": {
      "text/html": [
       "<div>\n",
       "<style scoped>\n",
       "    .dataframe tbody tr th:only-of-type {\n",
       "        vertical-align: middle;\n",
       "    }\n",
       "\n",
       "    .dataframe tbody tr th {\n",
       "        vertical-align: top;\n",
       "    }\n",
       "\n",
       "    .dataframe thead th {\n",
       "        text-align: right;\n",
       "    }\n",
       "</style>\n",
       "<table border=\"1\" class=\"dataframe\">\n",
       "  <thead>\n",
       "    <tr style=\"text-align: right;\">\n",
       "      <th></th>\n",
       "      <th>Solar</th>\n",
       "      <th>Wind Onshore</th>\n",
       "      <th>Wind Offshore</th>\n",
       "    </tr>\n",
       "  </thead>\n",
       "  <tbody>\n",
       "    <tr>\n",
       "      <th>count</th>\n",
       "      <td>1.511535e+06</td>\n",
       "      <td>1.125425e+06</td>\n",
       "      <td>615044.000000</td>\n",
       "    </tr>\n",
       "    <tr>\n",
       "      <th>mean</th>\n",
       "      <td>2.061808e+02</td>\n",
       "      <td>5.525426e+02</td>\n",
       "      <td>197.436611</td>\n",
       "    </tr>\n",
       "    <tr>\n",
       "      <th>std</th>\n",
       "      <td>6.208488e+02</td>\n",
       "      <td>8.133017e+02</td>\n",
       "      <td>343.159817</td>\n",
       "    </tr>\n",
       "    <tr>\n",
       "      <th>min</th>\n",
       "      <td>0.000000e+00</td>\n",
       "      <td>0.000000e+00</td>\n",
       "      <td>0.000000</td>\n",
       "    </tr>\n",
       "    <tr>\n",
       "      <th>25%</th>\n",
       "      <td>0.000000e+00</td>\n",
       "      <td>3.400000e+01</td>\n",
       "      <td>0.000000</td>\n",
       "    </tr>\n",
       "    <tr>\n",
       "      <th>50%</th>\n",
       "      <td>0.000000e+00</td>\n",
       "      <td>2.020000e+02</td>\n",
       "      <td>16.000000</td>\n",
       "    </tr>\n",
       "    <tr>\n",
       "      <th>75%</th>\n",
       "      <td>1.050000e+02</td>\n",
       "      <td>7.280000e+02</td>\n",
       "      <td>230.000000</td>\n",
       "    </tr>\n",
       "    <tr>\n",
       "      <th>max</th>\n",
       "      <td>7.871000e+03</td>\n",
       "      <td>6.474000e+03</td>\n",
       "      <td>1827.000000</td>\n",
       "    </tr>\n",
       "  </tbody>\n",
       "</table>\n",
       "</div>"
      ],
      "text/plain": [
       "              Solar  Wind Onshore  Wind Offshore\n",
       "count  1.511535e+06  1.125425e+06  615044.000000\n",
       "mean   2.061808e+02  5.525426e+02     197.436611\n",
       "std    6.208488e+02  8.133017e+02     343.159817\n",
       "min    0.000000e+00  0.000000e+00       0.000000\n",
       "25%    0.000000e+00  3.400000e+01       0.000000\n",
       "50%    0.000000e+00  2.020000e+02      16.000000\n",
       "75%    1.050000e+02  7.280000e+02     230.000000\n",
       "max    7.871000e+03  6.474000e+03    1827.000000"
      ]
     },
     "execution_count": 99,
     "metadata": {},
     "output_type": "execute_result"
    }
   ],
   "source": [
    "merged_df = pd.concat([df_IT_SARD, df_IT_SICI, df_IT_SUD, df_ME, df_MK, df_NL, df_NO_1, df_NO_2,\n",
    "                       df_NO_3, df_NO_4, df_NO_5, df_PL, df_PT, df_RO, df_SE_1, df_SE_2,\n",
    "                       df_SE_3, df_SE_4, df_SI, df_SK])\n",
    "merged_df.describe()\n"
   ]
  },
  {
   "cell_type": "code",
   "execution_count": 102,
   "metadata": {},
   "outputs": [
    {
     "name": "stdout",
     "output_type": "stream",
     "text": [
      "                      Unnamed: 0  Solar  Wind Onshore country_index  \\\n",
      "0      2015-01-01 00:00:00+01:00    0.0           NaN          SARD   \n",
      "1      2015-01-01 01:00:00+01:00    0.0           NaN          SARD   \n",
      "2      2015-01-01 02:00:00+01:00    0.0           NaN          SARD   \n",
      "3      2015-01-01 03:00:00+01:00    0.0           NaN          SARD   \n",
      "4      2015-01-01 04:00:00+01:00    0.0           NaN          SARD   \n",
      "...                          ...    ...           ...           ...   \n",
      "78563  2023-12-30 19:00:00+01:00    0.0           NaN            SK   \n",
      "78564  2023-12-30 20:00:00+01:00    0.0           NaN            SK   \n",
      "78565  2023-12-30 21:00:00+01:00    0.0           NaN            SK   \n",
      "78566  2023-12-30 22:00:00+01:00    0.0           NaN            SK   \n",
      "78567  2023-12-30 23:00:00+01:00    0.0           NaN            SK   \n",
      "\n",
      "       Wind Offshore  \n",
      "0                NaN  \n",
      "1                NaN  \n",
      "2                NaN  \n",
      "3                NaN  \n",
      "4                NaN  \n",
      "...              ...  \n",
      "78563            NaN  \n",
      "78564            NaN  \n",
      "78565            NaN  \n",
      "78566            NaN  \n",
      "78567            NaN  \n",
      "\n",
      "[1585928 rows x 5 columns]\n"
     ]
    }
   ],
   "source": [
    "print(merged_df)"
   ]
  },
  {
   "cell_type": "code",
   "execution_count": 103,
   "metadata": {
    "datalore": {
     "hide_input_from_viewers": true,
     "hide_output_from_viewers": true,
     "node_id": "EPTM9nszmlCzuhT8pI2sNw",
     "type": "CODE"
    }
   },
   "outputs": [],
   "source": [
    "merged_df.to_csv('merged_isabella.csv')"
   ]
  }
 ],
 "metadata": {
  "datalore": {
   "base_environment": "default",
   "computation_mode": "JUPYTER",
   "package_manager": "pip",
   "packages": [],
   "report_row_ids": [],
   "version": 3
  },
  "kernelspec": {
   "display_name": "Python 3 (ipykernel)",
   "language": "python",
   "name": "python3"
  },
  "language_info": {
   "codemirror_mode": {
    "name": "ipython",
    "version": 3
   },
   "file_extension": ".py",
   "mimetype": "text/x-python",
   "name": "python",
   "nbconvert_exporter": "python",
   "pygments_lexer": "ipython3",
   "version": "3.12.1"
  }
 },
 "nbformat": 4,
 "nbformat_minor": 4
}
