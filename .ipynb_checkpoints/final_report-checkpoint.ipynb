{
 "cells": [
  {
   "cell_type": "markdown",
   "id": "d7e546b3-390b-40a1-99de-549303b07194",
   "metadata": {},
   "source": [
    "# Group Writeup\n",
    "### Anzhelika Belozerova (238852),\n",
    "### Isabella Urbano-Trujillo (233239),\n",
    "### Camilo Pedraza Jimenez (226679),\n",
    "### Luis Fernando Ramirez Ruiz (222819),\n",
    "### Milton Mier (223594)"
   ]
  },
  {
   "cell_type": "code",
   "execution_count": 2,
   "id": "28a65e65-7367-4364-b485-4680742ceef7",
   "metadata": {},
   "outputs": [],
   "source": [
    "import pandas as pd\n",
    "import numpy as np\n",
    "import matplotlib.pyplot as plt\n",
    "import seaborn as sns"
   ]
  },
  {
   "cell_type": "markdown",
   "id": "d736e76d-73b8-4d80-affa-9a7896174e4b",
   "metadata": {},
   "source": [
    "## 1.Context "
   ]
  },
  {
   "cell_type": "markdown",
   "id": "e48119cd-95eb-4236-8812-f3e9f0dd6fe5",
   "metadata": {},
   "source": [
    "What is the context? Refine the setup you proposed in the project memo and explain it in a paragraph."
   ]
  },
  {
   "cell_type": "markdown",
   "id": "7d0fd38b-b6a4-451e-a061-8c5f617626fd",
   "metadata": {},
   "source": [
    "## 2. EDA"
   ]
  },
  {
   "cell_type": "markdown",
   "id": "16996c48-5d29-42c9-a06a-32fce739c5a2",
   "metadata": {},
   "source": [
    "What are some of the most important patterns in your data that you can observe through exploratory data analysis? For instance, what does the label look like? What do the simple bivariate relationships in the data look like? Will this affect any of your modeling choices"
   ]
  },
  {
   "cell_type": "code",
   "execution_count": 14,
   "id": "ba6496ba-d176-4b5b-9324-280ba439f518",
   "metadata": {},
   "outputs": [],
   "source": [
    "df = pd.read_csv('/Users/isdc/Library/CloudStorage/OneDrive-HertieSchool/2024-1/Machine Learning/ML project/machine_learning/all_features_merged.csv')\n",
    "df.set_index(['Date', 'Country'], inplace=True)"
   ]
  },
  {
   "cell_type": "code",
   "execution_count": 15,
   "id": "6ddb3639-7699-4056-8540-74b55f741025",
   "metadata": {},
   "outputs": [
    {
     "name": "stdout",
     "output_type": "stream",
     "text": [
      "                             Solar  Wind Onshore  Wind Offshore  \\\n",
      "Date                Country                                       \n",
      "2014-12-31 23:00    GB         0.0       4546.00         3165.0   \n",
      "2015-01-01 00:00    AT         0.0        117.25            NaN   \n",
      "                    BE         0.0        246.00          420.0   \n",
      "                    CH         0.0          4.00            NaN   \n",
      "                    CZ         0.0           NaN            NaN   \n",
      "...                            ...           ...            ...   \n",
      "2023-12-31 00:00:00 SE_2       NaN           NaN            NaN   \n",
      "                    SE_3       NaN           NaN            NaN   \n",
      "                    SE_4       NaN           NaN            NaN   \n",
      "                    SI         NaN           NaN            NaN   \n",
      "                    SK         NaN           NaN            NaN   \n",
      "\n",
      "                             water_reservoirs_and_hydro_storage  energy_price  \\\n",
      "Date                Country                                                     \n",
      "2014-12-31 23:00    GB                                      NaN           NaN   \n",
      "2015-01-01 00:00    AT                                      NaN           NaN   \n",
      "                    BE                                      NaN           NaN   \n",
      "                    CH                                      NaN           NaN   \n",
      "                    CZ                                      NaN           NaN   \n",
      "...                                                         ...           ...   \n",
      "2023-12-31 00:00:00 SE_2                                    NaN         44.87   \n",
      "                    SE_3                                    NaN         44.87   \n",
      "                    SE_4                                    NaN         44.87   \n",
      "                    SI                                      NaN         33.30   \n",
      "                    SK                                      NaN         35.14   \n",
      "\n",
      "                             biomass  gas  nuclear  \n",
      "Date                Country                         \n",
      "2014-12-31 23:00    GB           NaN  NaN      NaN  \n",
      "2015-01-01 00:00    AT           NaN  NaN      NaN  \n",
      "                    BE           NaN  NaN      NaN  \n",
      "                    CH           NaN  NaN      NaN  \n",
      "                    CZ           NaN  NaN      NaN  \n",
      "...                              ...  ...      ...  \n",
      "2023-12-31 00:00:00 SE_2         NaN  NaN      NaN  \n",
      "                    SE_3         NaN  NaN      NaN  \n",
      "                    SE_4         NaN  NaN      NaN  \n",
      "                    SI           NaN  NaN      NaN  \n",
      "                    SK           NaN  NaN      NaN  \n",
      "\n",
      "[5551063 rows x 8 columns]\n"
     ]
    }
   ],
   "source": [
    "print(df)"
   ]
  },
  {
   "cell_type": "code",
   "execution_count": 7,
   "id": "e8986469-a344-4ec4-a8b8-6ac58e5213ac",
   "metadata": {},
   "outputs": [
    {
     "name": "stdout",
     "output_type": "stream",
     "text": [
      "<class 'pandas.core.frame.DataFrame'>\n",
      "MultiIndex: 5551063 entries, ('2014-12-31 23:00', 'GB') to ('2023-12-31 00:00:00', 'SK')\n",
      "Data columns (total 8 columns):\n",
      " #   Column                              Dtype  \n",
      "---  ------                              -----  \n",
      " 0   Solar                               float64\n",
      " 1   Wind Onshore                        float64\n",
      " 2   Wind Offshore                       float64\n",
      " 3   water_reservoirs_and_hydro_storage  float64\n",
      " 4   energy_price                        float64\n",
      " 5   biomass                             float64\n",
      " 6   gas                                 float64\n",
      " 7   nuclear                             float64\n",
      "dtypes: float64(8)\n",
      "memory usage: 370.5+ MB\n",
      "None\n"
     ]
    }
   ],
   "source": [
    "print(df.info())"
   ]
  },
  {
   "cell_type": "code",
   "execution_count": 8,
   "id": "ccbf6a13-1c1e-43bb-b565-a69a523536e9",
   "metadata": {},
   "outputs": [
    {
     "name": "stdout",
     "output_type": "stream",
     "text": [
      "              Solar  Wind Onshore  Wind Offshore  \\\n",
      "count  1.694963e+06  1.895443e+06  591053.000000   \n",
      "mean   3.768433e+02  8.095530e+02     476.024976   \n",
      "std    1.153057e+03  1.751954e+03    1042.416130   \n",
      "min    0.000000e+00  0.000000e+00       0.000000   \n",
      "25%    0.000000e+00  3.200000e+01       0.000000   \n",
      "50%    0.000000e+00  1.710000e+02      91.000000   \n",
      "75%    1.932500e+02  7.050000e+02     489.000000   \n",
      "max    1.702500e+04  2.015600e+04    9813.000000   \n",
      "\n",
      "       water_reservoirs_and_hydro_storage  energy_price       biomass  \\\n",
      "count                        1.196200e+04  3.371340e+06  2.022328e+06   \n",
      "mean                         3.589091e+06  7.913296e+01  4.019074e+02   \n",
      "std                          5.358699e+06  1.196151e+02  1.051868e+03   \n",
      "min                          0.000000e+00 -5.000000e+02  0.000000e+00   \n",
      "25%                          3.045920e+05  3.237000e+01  2.775000e+01   \n",
      "50%                          1.598700e+06  4.794000e+01  7.500000e+01   \n",
      "75%                          4.036250e+06  7.990000e+01  2.660000e+02   \n",
      "max                          3.338800e+07  6.101780e+03  5.368250e+03   \n",
      "\n",
      "                gas        nuclear  \n",
      "count  2.227018e+06  820910.000000  \n",
      "mean   1.098890e+03    7085.624705  \n",
      "std    1.994761e+03   11559.506233  \n",
      "min    0.000000e+00       0.000000  \n",
      "25%    2.250000e+01    1595.312500  \n",
      "50%    2.810000e+02    3001.000000  \n",
      "75%    1.204000e+03    6420.000000  \n",
      "max    2.045400e+04   61490.000000  \n"
     ]
    }
   ],
   "source": [
    "print(df.describe())"
   ]
  },
  {
   "cell_type": "code",
   "execution_count": 16,
   "id": "2f06b224-fe58-4def-99dc-cd7541c23273",
   "metadata": {},
   "outputs": [
    {
     "name": "stdout",
     "output_type": "stream",
     "text": [
      "Solar                                 3856100\n",
      "Wind Onshore                          3655620\n",
      "Wind Offshore                         4960010\n",
      "water_reservoirs_and_hydro_storage    5539101\n",
      "energy_price                          2179723\n",
      "biomass                               3528735\n",
      "gas                                   3324045\n",
      "nuclear                               4730153\n",
      "dtype: int64\n"
     ]
    }
   ],
   "source": [
    "print(df.isnull().sum())"
   ]
  },
  {
   "cell_type": "code",
   "execution_count": null,
   "id": "4c3f1e8f-5dfc-4cc0-b663-92ab8de786a1",
   "metadata": {},
   "outputs": [],
   "source": []
  },
  {
   "cell_type": "code",
   "execution_count": null,
   "id": "58b179d1-1627-4402-9b74-a71cbdf9f75c",
   "metadata": {},
   "outputs": [],
   "source": []
  },
  {
   "cell_type": "markdown",
   "id": "409a92ab-6b4b-42d3-991a-33365f55bbc6",
   "metadata": {},
   "source": [
    "## 3. Models"
   ]
  },
  {
   "cell_type": "markdown",
   "id": "7242c86d-4397-42af-b99c-e5eb192c084d",
   "metadata": {},
   "source": [
    "What models did you try? How did they perform? I will want to see charts comparing the performance of a few different models. I will also want to see an exploration of which features should be included and proved to be particularly useful."
   ]
  },
  {
   "cell_type": "markdown",
   "id": "2fccbc13-80c1-4da5-92ec-02fd77801101",
   "metadata": {},
   "source": [
    "## 4. Evaluation"
   ]
  },
  {
   "cell_type": "markdown",
   "id": "0b4a15a7-45b0-4736-9064-f7ec2bf402f7",
   "metadata": {},
   "source": [
    "How are you doing evaluation of your models? What is your test set? How did you choose it? How are you doing cross-validation or, more generally, choosing hyperparameters?"
   ]
  },
  {
   "cell_type": "markdown",
   "id": "7eb7984c-33d6-410b-a8bd-888781485172",
   "metadata": {},
   "source": [
    "## 5. Choice of model"
   ]
  },
  {
   "cell_type": "markdown",
   "id": "88aadd3f-c2bb-4e3c-bd20-118e54ebe6f2",
   "metadata": {},
   "source": [
    "The final part of the writeup should be an argument for which model you believe best satisfies the needs of the context. You should buttress this argument with the charts and diagnostics you have prepared. This doesn’t necessarily mean the model with the lowest overall error! It’s entirely plausible that concerns such as fairness or explainability might be important considerations to you, in which case you should discuss the tradeoffs you have measured on these dimensions. Crucially, however, your determination should be backed by evidence."
   ]
  },
  {
   "cell_type": "code",
   "execution_count": null,
   "id": "c1673f5c-cc4f-42de-84ba-a9b0e06b53d9",
   "metadata": {},
   "outputs": [],
   "source": []
  }
 ],
 "metadata": {
  "kernelspec": {
   "display_name": "Python 3 (ipykernel)",
   "language": "python",
   "name": "python3"
  },
  "language_info": {
   "codemirror_mode": {
    "name": "ipython",
    "version": 3
   },
   "file_extension": ".py",
   "mimetype": "text/x-python",
   "name": "python",
   "nbconvert_exporter": "python",
   "pygments_lexer": "ipython3",
   "version": "3.12.1"
  }
 },
 "nbformat": 4,
 "nbformat_minor": 5
}
