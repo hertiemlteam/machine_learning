{
 "cells": [
  {
   "cell_type": "code",
   "execution_count": 20,
   "id": "32d29af4-5a3c-425e-a199-c379d01a1b46",
   "metadata": {},
   "outputs": [],
   "source": [
    "import pandas as pd"
   ]
  },
  {
   "cell_type": "code",
   "execution_count": 22,
   "id": "a796bb41-901e-45e7-bcc7-0f1551fd9eea",
   "metadata": {},
   "outputs": [
    {
     "name": "stderr",
     "output_type": "stream",
     "text": [
      "/var/folders/pg/y2y18dgn2sd7c3s0cf9mx1gr0000gn/T/ipykernel_93378/2491133739.py:3: DtypeWarning: Columns (4) have mixed types. Specify dtype option on import or set low_memory=False.\n",
      "  df1 = pd.read_csv('merged_luisfer.csv')\n",
      "/var/folders/pg/y2y18dgn2sd7c3s0cf9mx1gr0000gn/T/ipykernel_93378/2491133739.py:4: DtypeWarning: Columns (4) have mixed types. Specify dtype option on import or set low_memory=False.\n",
      "  df2 = pd.read_csv('merged_isabella.csv')\n"
     ]
    }
   ],
   "source": [
    "# merge solar and wind data\n",
    "\n",
    "df1 = pd.read_csv('merged_luisfer.csv')\n",
    "df2 = pd.read_csv('merged_isabella.csv')\n",
    "#df3 = pd.read_csv('merged_camilo.csv')\n"
   ]
  }
 ],
 "metadata": {
  "kernelspec": {
   "display_name": "Python 3 (ipykernel)",
   "language": "python",
   "name": "python3"
  },
  "language_info": {
   "codemirror_mode": {
    "name": "ipython",
    "version": 3
   },
   "file_extension": ".py",
   "mimetype": "text/x-python",
   "name": "python",
   "nbconvert_exporter": "python",
   "pygments_lexer": "ipython3",
   "version": "3.12.1"
  }
 },
 "nbformat": 4,
 "nbformat_minor": 5
}
