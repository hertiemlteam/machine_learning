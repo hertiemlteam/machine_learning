{
 "cells": [
  {
   "cell_type": "code",
   "execution_count": 36,
   "id": "32d29af4-5a3c-425e-a199-c379d01a1b46",
   "metadata": {},
   "outputs": [],
   "source": [
    "import pandas as pd"
   ]
  },
  {
   "cell_type": "markdown",
   "id": "7c06a200-e77e-40b5-b0ad-17574e5863d1",
   "metadata": {},
   "source": [
    "# merge all countries solar and wind data"
   ]
  },
  {
   "cell_type": "code",
   "execution_count": 42,
   "id": "a796bb41-901e-45e7-bcc7-0f1551fd9eea",
   "metadata": {},
   "outputs": [
    {
     "name": "stderr",
     "output_type": "stream",
     "text": [
      "/var/folders/pg/y2y18dgn2sd7c3s0cf9mx1gr0000gn/T/ipykernel_93378/3414449014.py:1: DtypeWarning: Columns (4) have mixed types. Specify dtype option on import or set low_memory=False.\n",
      "  df1 = pd.read_csv('merged_luisfer.csv')\n"
     ]
    }
   ],
   "source": [
    "df1 = pd.read_csv('merged_luisfer.csv')\n",
    "df2 = pd.read_csv('merged_isabella.csv')\n",
    "#df3 = pd.read_csv('merged_camilo.csv')\n"
   ]
  },
  {
   "cell_type": "code",
   "execution_count": 43,
   "id": "cc3060c4-7b09-4ee3-b329-07148f111860",
   "metadata": {},
   "outputs": [
    {
     "name": "stdout",
     "output_type": "stream",
     "text": [
      "Index(['Unnamed: 0.1', 'Date', 'solar', 'wind_on', 'Country', 'wind_off'], dtype='object')\n"
     ]
    }
   ],
   "source": [
    "combined_df = pd.concat([df1, df2], ignore_index=True)\n",
    "\n",
    "combined_df.rename(columns={\n",
    "    \"Unnamed: 0\": \"Date\",\n",
    "    \"country_index\": \"Country\",\n",
    "    \"Solar\": \"solar\",\n",
    "    \"Wind Onshore\": \"wind_on\",\n",
    "    \"Wind Offshore\": \"wind_off\"\n",
    "}, inplace=True)\n",
    "\n",
    "print(combined_df.columns)\n"
   ]
  },
  {
   "cell_type": "code",
   "execution_count": 44,
   "id": "340ce378-4619-4cfa-8052-da9e681dd261",
   "metadata": {},
   "outputs": [
    {
     "name": "stdout",
     "output_type": "stream",
     "text": [
      "['AT' 'BE' 'BG' 'CH' 'CZ' '1' 1 'IT_SARD' 'IT_SICI' 'IT_SUD' 'LV' 'ME'\n",
      " 'MK' 'NL' 'NO_1' 'NO_2' 'NO_3' 'NO_4' 'NO_5' 'PL' 'PT' 'RO' 'RS' 'SE_1'\n",
      " 'SE_2' 'SE_3' 'SE_4' 'SI' 'SK']\n"
     ]
    }
   ],
   "source": [
    "#check country names\n",
    "unique_countries = combined_df['Country'].unique()\n",
    "print(unique_countries)\n"
   ]
  },
  {
   "cell_type": "markdown",
   "id": "ab1516c6-4d3c-4050-8e47-921c642d4409",
   "metadata": {},
   "source": [
    "# merge master with solar and wind data"
   ]
  },
  {
   "cell_type": "code",
   "execution_count": null,
   "id": "3b9b1eb7-9ad5-4b97-a3b9-273a8c7b53b0",
   "metadata": {},
   "outputs": [],
   "source": []
  },
  {
   "cell_type": "code",
   "execution_count": null,
   "id": "78e761b6-8e01-4198-b7dd-6cd71364f0af",
   "metadata": {},
   "outputs": [],
   "source": []
  },
  {
   "cell_type": "code",
   "execution_count": null,
   "id": "07722089-3d52-4389-b064-4c9a35e1319b",
   "metadata": {},
   "outputs": [],
   "source": []
  }
 ],
 "metadata": {
  "kernelspec": {
   "display_name": "Python 3 (ipykernel)",
   "language": "python",
   "name": "python3"
  },
  "language_info": {
   "codemirror_mode": {
    "name": "ipython",
    "version": 3
   },
   "file_extension": ".py",
   "mimetype": "text/x-python",
   "name": "python",
   "nbconvert_exporter": "python",
   "pygments_lexer": "ipython3",
   "version": "3.12.1"
  }
 },
 "nbformat": 4,
 "nbformat_minor": 5
}
