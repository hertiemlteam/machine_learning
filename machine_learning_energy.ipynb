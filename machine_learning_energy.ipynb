{
 "cells": [
  {
   "cell_type": "code",
   "execution_count": 1,
   "id": "9312166e-824a-4f76-8854-7ae5597fd0a5",
   "metadata": {},
   "outputs": [],
   "source": [
    "import pandas as pd\n",
    "import numpy as np\n",
    "import matplotlib.pyplot as plt \n",
    "import math\n",
    "import matplotlib.dates as mdate\n",
    "import numpy as np\n",
    "import datetime as dt\n",
    "from itertools import product"
   ]
  },
  {
   "cell_type": "code",
   "execution_count": 31,
   "id": "dcb2cb1a-9a2c-4fdc-a968-4bf0068ba4de",
   "metadata": {},
   "outputs": [
    {
     "name": "stdout",
     "output_type": "stream",
     "text": [
      "                     IT_GR  IT_NORD_AT  IT_NORD_CH  IT_NORD_FR  IT_NORD_SI  \\\n",
      "Date                                                                         \n",
      "2015-01-01 00:00:00    NaN         NaN         NaN         NaN         NaN   \n",
      "2015-01-01 01:00:00    NaN         NaN         NaN         NaN         NaN   \n",
      "2015-01-01 02:00:00    NaN         NaN         NaN         NaN         NaN   \n",
      "2015-01-01 03:00:00    NaN         NaN         NaN         NaN         NaN   \n",
      "2015-01-01 04:00:00    NaN         NaN         NaN         NaN         NaN   \n",
      "...                    ...         ...         ...         ...         ...   \n",
      "2023-12-30 20:00:00    NaN         NaN         NaN         NaN         NaN   \n",
      "2023-12-30 21:00:00    NaN         NaN         NaN         NaN         NaN   \n",
      "2023-12-30 22:00:00    NaN         NaN         NaN         NaN         NaN   \n",
      "2023-12-30 23:00:00    NaN         NaN         NaN         NaN         NaN   \n",
      "2023-12-31 00:00:00    NaN         NaN         NaN         NaN         NaN   \n",
      "\n",
      "                     IT_SACO_AC  IT_SACO_DC     RS     EE     FI  ...  \\\n",
      "Date                                                              ...   \n",
      "2015-01-01 00:00:00         NaN         NaN    NaN  27.38  27.38  ...   \n",
      "2015-01-01 01:00:00         NaN         NaN    NaN  23.37  23.37  ...   \n",
      "2015-01-01 02:00:00         NaN         NaN    NaN  19.33  19.33  ...   \n",
      "2015-01-01 03:00:00         NaN         NaN    NaN  17.66  17.66  ...   \n",
      "2015-01-01 04:00:00         NaN         NaN    NaN  17.53  17.53  ...   \n",
      "...                         ...         ...    ...    ...    ...  ...   \n",
      "2023-12-30 20:00:00      125.35      125.35  59.84  62.01  62.01  ...   \n",
      "2023-12-30 21:00:00      113.29      113.29  52.70  55.14  55.14  ...   \n",
      "2023-12-30 22:00:00      110.00      110.00  46.06  50.10  50.10  ...   \n",
      "2023-12-30 23:00:00      108.62      108.62  37.50  43.23  43.23  ...   \n",
      "2023-12-31 00:00:00      109.12      109.12  29.85  44.87  44.87  ...   \n",
      "\n",
      "                     IT_CSUD  IT_NORD  IT_SARD  IT_SICI     AT  DE_AT_LU  \\\n",
      "Date                                                                       \n",
      "2015-01-01 00:00:00      NaN      NaN      NaN      NaN    NaN       NaN   \n",
      "2015-01-01 01:00:00      NaN      NaN      NaN      NaN    NaN       NaN   \n",
      "2015-01-01 02:00:00      NaN      NaN      NaN      NaN    NaN       NaN   \n",
      "2015-01-01 03:00:00      NaN      NaN      NaN      NaN    NaN       NaN   \n",
      "2015-01-01 04:00:00      NaN      NaN      NaN      NaN    NaN       NaN   \n",
      "...                      ...      ...      ...      ...    ...       ...   \n",
      "2023-12-30 20:00:00   125.35   125.35   125.35   125.35  62.01       NaN   \n",
      "2023-12-30 21:00:00   113.29   113.29   113.29   113.29  53.11       NaN   \n",
      "2023-12-30 22:00:00   110.00   110.00   110.00   110.00  50.10       NaN   \n",
      "2023-12-30 23:00:00   108.62   108.62   108.62   108.62  43.23       NaN   \n",
      "2023-12-31 00:00:00   109.12   109.12   109.12   109.12  34.32       NaN   \n",
      "\n",
      "                     DE_LU   DK_1   DK_2   GB  \n",
      "Date                                           \n",
      "2015-01-01 00:00:00    NaN  25.02  27.38  0.0  \n",
      "2015-01-01 01:00:00    NaN  18.29  18.29  0.0  \n",
      "2015-01-01 02:00:00    NaN  16.04  16.04  0.0  \n",
      "2015-01-01 03:00:00    NaN  14.60  14.60  0.0  \n",
      "2015-01-01 04:00:00    NaN  14.95  14.95  0.0  \n",
      "...                    ...    ...    ...  ...  \n",
      "2023-12-30 20:00:00  62.01  62.01  62.01  NaN  \n",
      "2023-12-30 21:00:00  56.36  57.64  55.14  NaN  \n",
      "2023-12-30 22:00:00  50.10  59.24  50.10  NaN  \n",
      "2023-12-30 23:00:00  43.23  43.23  43.23  NaN  \n",
      "2023-12-31 00:00:00  36.54  44.87  44.87  NaN  \n",
      "\n",
      "[78865 rows x 52 columns]\n"
     ]
    }
   ],
   "source": [
    "df = pd.read_csv('entsoe2015-2023.csv', index_col=0)\n",
    "df = df.rename_axis('Date')\n",
    "print(df)"
   ]
  },
  {
   "cell_type": "markdown",
   "id": "c2b4d27a-1fa3-4490-b713-dfe5ad0d6923",
   "metadata": {},
   "source": [
    "Until 2018, the energy price market had a joint trading zone between Austria, Germany and Luxembourg. After 2018, a separate market appeared in Austria. So we need to merge the columns for them."
   ]
  },
  {
   "cell_type": "code",
   "execution_count": 32,
   "id": "0224b914-0dc4-4b5c-bfd1-379499a5f942",
   "metadata": {},
   "outputs": [],
   "source": [
    "df.index = pd.to_datetime(df.index)\n",
    "df['Year'] = df.index.year\n",
    "df['Combined_AT_DE_AT_LU'] = df.apply(lambda row: row['DE_AT_LU'] if row['Year'] <= 2018 else row['AT'], axis=1)\n",
    "df['Combined_DE_LU_DE_AT_LU'] = df.apply(lambda row: row['DE_AT_LU'] if row['Year'] <= 2018 else row['DE_LU'], axis=1)"
   ]
  },
  {
   "cell_type": "code",
   "execution_count": 33,
   "id": "990ea210-301d-4545-a4d3-3b23b64f049f",
   "metadata": {},
   "outputs": [
    {
     "name": "stdout",
     "output_type": "stream",
     "text": [
      "                     IT_GR  IT_NORD_AT  IT_NORD_CH  IT_NORD_FR  IT_NORD_SI  \\\n",
      "Date                                                                         \n",
      "2015-01-01 00:00:00    NaN         NaN         NaN         NaN         NaN   \n",
      "2015-01-01 01:00:00    NaN         NaN         NaN         NaN         NaN   \n",
      "2015-01-01 02:00:00    NaN         NaN         NaN         NaN         NaN   \n",
      "2015-01-01 03:00:00    NaN         NaN         NaN         NaN         NaN   \n",
      "2015-01-01 04:00:00    NaN         NaN         NaN         NaN         NaN   \n",
      "...                    ...         ...         ...         ...         ...   \n",
      "2023-12-30 20:00:00    NaN         NaN         NaN         NaN         NaN   \n",
      "2023-12-30 21:00:00    NaN         NaN         NaN         NaN         NaN   \n",
      "2023-12-30 22:00:00    NaN         NaN         NaN         NaN         NaN   \n",
      "2023-12-30 23:00:00    NaN         NaN         NaN         NaN         NaN   \n",
      "2023-12-31 00:00:00    NaN         NaN         NaN         NaN         NaN   \n",
      "\n",
      "                     IT_SACO_AC  IT_SACO_DC     RS     EE     FI  ...  \\\n",
      "Date                                                              ...   \n",
      "2015-01-01 00:00:00         NaN         NaN    NaN  27.38  27.38  ...   \n",
      "2015-01-01 01:00:00         NaN         NaN    NaN  23.37  23.37  ...   \n",
      "2015-01-01 02:00:00         NaN         NaN    NaN  19.33  19.33  ...   \n",
      "2015-01-01 03:00:00         NaN         NaN    NaN  17.66  17.66  ...   \n",
      "2015-01-01 04:00:00         NaN         NaN    NaN  17.53  17.53  ...   \n",
      "...                         ...         ...    ...    ...    ...  ...   \n",
      "2023-12-30 20:00:00      125.35      125.35  59.84  62.01  62.01  ...   \n",
      "2023-12-30 21:00:00      113.29      113.29  52.70  55.14  55.14  ...   \n",
      "2023-12-30 22:00:00      110.00      110.00  46.06  50.10  50.10  ...   \n",
      "2023-12-30 23:00:00      108.62      108.62  37.50  43.23  43.23  ...   \n",
      "2023-12-31 00:00:00      109.12      109.12  29.85  44.87  44.87  ...   \n",
      "\n",
      "                     IT_CSUD  IT_NORD  IT_SARD  IT_SICI   DK_1   DK_2   GB  \\\n",
      "Date                                                                         \n",
      "2015-01-01 00:00:00      NaN      NaN      NaN      NaN  25.02  27.38  0.0   \n",
      "2015-01-01 01:00:00      NaN      NaN      NaN      NaN  18.29  18.29  0.0   \n",
      "2015-01-01 02:00:00      NaN      NaN      NaN      NaN  16.04  16.04  0.0   \n",
      "2015-01-01 03:00:00      NaN      NaN      NaN      NaN  14.60  14.60  0.0   \n",
      "2015-01-01 04:00:00      NaN      NaN      NaN      NaN  14.95  14.95  0.0   \n",
      "...                      ...      ...      ...      ...    ...    ...  ...   \n",
      "2023-12-30 20:00:00   125.35   125.35   125.35   125.35  62.01  62.01  NaN   \n",
      "2023-12-30 21:00:00   113.29   113.29   113.29   113.29  57.64  55.14  NaN   \n",
      "2023-12-30 22:00:00   110.00   110.00   110.00   110.00  59.24  50.10  NaN   \n",
      "2023-12-30 23:00:00   108.62   108.62   108.62   108.62  43.23  43.23  NaN   \n",
      "2023-12-31 00:00:00   109.12   109.12   109.12   109.12  44.87  44.87  NaN   \n",
      "\n",
      "                     Year  Combined_AT_DE_AT_LU  Combined_DE_LU_DE_AT_LU  \n",
      "Date                                                                      \n",
      "2015-01-01 00:00:00  2015                   NaN                      NaN  \n",
      "2015-01-01 01:00:00  2015                   NaN                      NaN  \n",
      "2015-01-01 02:00:00  2015                   NaN                      NaN  \n",
      "2015-01-01 03:00:00  2015                   NaN                      NaN  \n",
      "2015-01-01 04:00:00  2015                   NaN                      NaN  \n",
      "...                   ...                   ...                      ...  \n",
      "2023-12-30 20:00:00  2023                 62.01                    62.01  \n",
      "2023-12-30 21:00:00  2023                 53.11                    56.36  \n",
      "2023-12-30 22:00:00  2023                 50.10                    50.10  \n",
      "2023-12-30 23:00:00  2023                 43.23                    43.23  \n",
      "2023-12-31 00:00:00  2023                 34.32                    36.54  \n",
      "\n",
      "[78865 rows x 52 columns]\n"
     ]
    }
   ],
   "source": [
    "exclude_columns = ['DE_AT_LU', 'AT', 'DE_LU', 'Н']\n",
    "df.drop(columns=exclude_columns, inplace=True)\n",
    "print(df)"
   ]
  },
  {
   "cell_type": "code",
   "execution_count": null,
   "id": "6875804c-822f-4029-bb89-e34edac86e20",
   "metadata": {},
   "outputs": [],
   "source": []
  }
 ],
 "metadata": {
  "kernelspec": {
   "display_name": "Python 3 (ipykernel)",
   "language": "python",
   "name": "python3"
  },
  "language_info": {
   "codemirror_mode": {
    "name": "ipython",
    "version": 3
   },
   "file_extension": ".py",
   "mimetype": "text/x-python",
   "name": "python",
   "nbconvert_exporter": "python",
   "pygments_lexer": "ipython3",
   "version": "3.8.18"
  }
 },
 "nbformat": 4,
 "nbformat_minor": 5
}
