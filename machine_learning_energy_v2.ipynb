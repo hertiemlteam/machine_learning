{
 "cells": [
  {
   "cell_type": "code",
   "execution_count": 96,
   "id": "9312166e-824a-4f76-8854-7ae5597fd0a5",
   "metadata": {},
   "outputs": [],
   "source": [
    "import pandas as pd\n",
    "import numpy as np\n",
    "import matplotlib.pyplot as plt \n",
    "import math\n",
    "import matplotlib.dates as mdate\n",
    "import numpy as np\n",
    "import datetime as dt\n",
    "from itertools import product\n",
    "import matplotlib.pyplot as plt\n",
    "import seaborn as sns\n",
    "\n",
    "from sklearn.model_selection import TimeSeriesSplit\n",
    "from sklearn.linear_model import LinearRegression\n",
    "from sklearn.metrics import mean_squared_error, r2_score\n"
   ]
  },
  {
   "cell_type": "markdown",
   "id": "4a64d227-c397-4496-9220-f4ba3c6f2b12",
   "metadata": {},
   "source": [
    "# final df"
   ]
  },
  {
   "cell_type": "code",
   "execution_count": 97,
   "id": "dcb2cb1a-9a2c-4fdc-a968-4bf0068ba4de",
   "metadata": {},
   "outputs": [
    {
     "name": "stdout",
     "output_type": "stream",
     "text": [
      "                             Solar  Wind Onshore  Wind Offshore  \\\n",
      "Date                Country                                       \n",
      "2014-12-31 23:00    GB         0.0       4546.00         3165.0   \n",
      "2015-01-01 00:00    AT         0.0        117.25            NaN   \n",
      "                    BE         0.0        246.00          420.0   \n",
      "                    CH         0.0          4.00            NaN   \n",
      "                    CZ         0.0           NaN            NaN   \n",
      "...                            ...           ...            ...   \n",
      "2023-12-31 00:00:00 SE_2       NaN           NaN            NaN   \n",
      "                    SE_3       NaN           NaN            NaN   \n",
      "                    SE_4       NaN           NaN            NaN   \n",
      "                    SI         NaN           NaN            NaN   \n",
      "                    SK         NaN           NaN            NaN   \n",
      "\n",
      "                             water_reservoirs_and_hydro_storage  energy_price  \\\n",
      "Date                Country                                                     \n",
      "2014-12-31 23:00    GB                                      NaN           NaN   \n",
      "2015-01-01 00:00    AT                                      NaN           NaN   \n",
      "                    BE                                      NaN           NaN   \n",
      "                    CH                                      NaN           NaN   \n",
      "                    CZ                                      NaN           NaN   \n",
      "...                                                         ...           ...   \n",
      "2023-12-31 00:00:00 SE_2                                    NaN         44.87   \n",
      "                    SE_3                                    NaN         44.87   \n",
      "                    SE_4                                    NaN         44.87   \n",
      "                    SI                                      NaN         33.30   \n",
      "                    SK                                      NaN         35.14   \n",
      "\n",
      "                             biomass  gas  nuclear  \n",
      "Date                Country                         \n",
      "2014-12-31 23:00    GB           NaN  NaN      NaN  \n",
      "2015-01-01 00:00    AT           NaN  NaN      NaN  \n",
      "                    BE           NaN  NaN      NaN  \n",
      "                    CH           NaN  NaN      NaN  \n",
      "                    CZ           NaN  NaN      NaN  \n",
      "...                              ...  ...      ...  \n",
      "2023-12-31 00:00:00 SE_2         NaN  NaN      NaN  \n",
      "                    SE_3         NaN  NaN      NaN  \n",
      "                    SE_4         NaN  NaN      NaN  \n",
      "                    SI           NaN  NaN      NaN  \n",
      "                    SK           NaN  NaN      NaN  \n",
      "\n",
      "[5551063 rows x 8 columns]\n"
     ]
    }
   ],
   "source": [
    "df = pd.read_csv('/Users/isdc/Library/CloudStorage/OneDrive-HertieSchool/2024-1/Machine Learning/ML project/machine_learning/all_features_merged.csv')\n",
    "df.set_index(['Date', 'Country'], inplace=True)\n",
    "\n",
    "print(df)"
   ]
  },
  {
   "cell_type": "markdown",
   "id": "c2b4d27a-1fa3-4490-b713-dfe5ad0d6923",
   "metadata": {},
   "source": [
    "Until 2018, the energy price market had a joint trading zone between Austria, Germany and Luxembourg. After 2018, a separate market appeared in Austria. So we need to merge the columns for them."
   ]
  },
  {
   "cell_type": "code",
   "execution_count": 98,
   "id": "6875804c-822f-4029-bb89-e34edac86e20",
   "metadata": {},
   "outputs": [
    {
     "data": {
      "text/html": [
       "<div>\n",
       "<style scoped>\n",
       "    .dataframe tbody tr th:only-of-type {\n",
       "        vertical-align: middle;\n",
       "    }\n",
       "\n",
       "    .dataframe tbody tr th {\n",
       "        vertical-align: top;\n",
       "    }\n",
       "\n",
       "    .dataframe thead th {\n",
       "        text-align: right;\n",
       "    }\n",
       "</style>\n",
       "<table border=\"1\" class=\"dataframe\">\n",
       "  <thead>\n",
       "    <tr style=\"text-align: right;\">\n",
       "      <th></th>\n",
       "      <th>Solar</th>\n",
       "      <th>Wind Onshore</th>\n",
       "      <th>Wind Offshore</th>\n",
       "      <th>water_reservoirs_and_hydro_storage</th>\n",
       "      <th>energy_price</th>\n",
       "      <th>biomass</th>\n",
       "      <th>gas</th>\n",
       "      <th>nuclear</th>\n",
       "    </tr>\n",
       "  </thead>\n",
       "  <tbody>\n",
       "    <tr>\n",
       "      <th>count</th>\n",
       "      <td>1.694963e+06</td>\n",
       "      <td>1.895443e+06</td>\n",
       "      <td>591053.000000</td>\n",
       "      <td>1.196200e+04</td>\n",
       "      <td>3.371340e+06</td>\n",
       "      <td>2.022328e+06</td>\n",
       "      <td>2.227018e+06</td>\n",
       "      <td>820910.000000</td>\n",
       "    </tr>\n",
       "    <tr>\n",
       "      <th>mean</th>\n",
       "      <td>3.768433e+02</td>\n",
       "      <td>8.095530e+02</td>\n",
       "      <td>476.024976</td>\n",
       "      <td>3.589091e+06</td>\n",
       "      <td>7.913296e+01</td>\n",
       "      <td>4.019074e+02</td>\n",
       "      <td>1.098890e+03</td>\n",
       "      <td>7085.624705</td>\n",
       "    </tr>\n",
       "    <tr>\n",
       "      <th>std</th>\n",
       "      <td>1.153057e+03</td>\n",
       "      <td>1.751954e+03</td>\n",
       "      <td>1042.416130</td>\n",
       "      <td>5.358699e+06</td>\n",
       "      <td>1.196151e+02</td>\n",
       "      <td>1.051868e+03</td>\n",
       "      <td>1.994761e+03</td>\n",
       "      <td>11559.506233</td>\n",
       "    </tr>\n",
       "    <tr>\n",
       "      <th>min</th>\n",
       "      <td>0.000000e+00</td>\n",
       "      <td>0.000000e+00</td>\n",
       "      <td>0.000000</td>\n",
       "      <td>0.000000e+00</td>\n",
       "      <td>-5.000000e+02</td>\n",
       "      <td>0.000000e+00</td>\n",
       "      <td>0.000000e+00</td>\n",
       "      <td>0.000000</td>\n",
       "    </tr>\n",
       "    <tr>\n",
       "      <th>25%</th>\n",
       "      <td>0.000000e+00</td>\n",
       "      <td>3.200000e+01</td>\n",
       "      <td>0.000000</td>\n",
       "      <td>3.045920e+05</td>\n",
       "      <td>3.237000e+01</td>\n",
       "      <td>2.775000e+01</td>\n",
       "      <td>2.250000e+01</td>\n",
       "      <td>1595.312500</td>\n",
       "    </tr>\n",
       "    <tr>\n",
       "      <th>50%</th>\n",
       "      <td>0.000000e+00</td>\n",
       "      <td>1.710000e+02</td>\n",
       "      <td>91.000000</td>\n",
       "      <td>1.598700e+06</td>\n",
       "      <td>4.794000e+01</td>\n",
       "      <td>7.500000e+01</td>\n",
       "      <td>2.810000e+02</td>\n",
       "      <td>3001.000000</td>\n",
       "    </tr>\n",
       "    <tr>\n",
       "      <th>75%</th>\n",
       "      <td>1.932500e+02</td>\n",
       "      <td>7.050000e+02</td>\n",
       "      <td>489.000000</td>\n",
       "      <td>4.036250e+06</td>\n",
       "      <td>7.990000e+01</td>\n",
       "      <td>2.660000e+02</td>\n",
       "      <td>1.204000e+03</td>\n",
       "      <td>6420.000000</td>\n",
       "    </tr>\n",
       "    <tr>\n",
       "      <th>max</th>\n",
       "      <td>1.702500e+04</td>\n",
       "      <td>2.015600e+04</td>\n",
       "      <td>9813.000000</td>\n",
       "      <td>3.338800e+07</td>\n",
       "      <td>6.101780e+03</td>\n",
       "      <td>5.368250e+03</td>\n",
       "      <td>2.045400e+04</td>\n",
       "      <td>61490.000000</td>\n",
       "    </tr>\n",
       "  </tbody>\n",
       "</table>\n",
       "</div>"
      ],
      "text/plain": [
       "              Solar  Wind Onshore  Wind Offshore  \\\n",
       "count  1.694963e+06  1.895443e+06  591053.000000   \n",
       "mean   3.768433e+02  8.095530e+02     476.024976   \n",
       "std    1.153057e+03  1.751954e+03    1042.416130   \n",
       "min    0.000000e+00  0.000000e+00       0.000000   \n",
       "25%    0.000000e+00  3.200000e+01       0.000000   \n",
       "50%    0.000000e+00  1.710000e+02      91.000000   \n",
       "75%    1.932500e+02  7.050000e+02     489.000000   \n",
       "max    1.702500e+04  2.015600e+04    9813.000000   \n",
       "\n",
       "       water_reservoirs_and_hydro_storage  energy_price       biomass  \\\n",
       "count                        1.196200e+04  3.371340e+06  2.022328e+06   \n",
       "mean                         3.589091e+06  7.913296e+01  4.019074e+02   \n",
       "std                          5.358699e+06  1.196151e+02  1.051868e+03   \n",
       "min                          0.000000e+00 -5.000000e+02  0.000000e+00   \n",
       "25%                          3.045920e+05  3.237000e+01  2.775000e+01   \n",
       "50%                          1.598700e+06  4.794000e+01  7.500000e+01   \n",
       "75%                          4.036250e+06  7.990000e+01  2.660000e+02   \n",
       "max                          3.338800e+07  6.101780e+03  5.368250e+03   \n",
       "\n",
       "                gas        nuclear  \n",
       "count  2.227018e+06  820910.000000  \n",
       "mean   1.098890e+03    7085.624705  \n",
       "std    1.994761e+03   11559.506233  \n",
       "min    0.000000e+00       0.000000  \n",
       "25%    2.250000e+01    1595.312500  \n",
       "50%    2.810000e+02    3001.000000  \n",
       "75%    1.204000e+03    6420.000000  \n",
       "max    2.045400e+04   61490.000000  "
      ]
     },
     "execution_count": 98,
     "metadata": {},
     "output_type": "execute_result"
    }
   ],
   "source": [
    "df.describe()"
   ]
  },
  {
   "cell_type": "markdown",
   "id": "510c8dfa-e3b2-4514-92d6-038c49ee4f76",
   "metadata": {},
   "source": [
    "# Handling missing values"
   ]
  },
  {
   "cell_type": "code",
   "execution_count": 99,
   "id": "703ded34-3ed4-4539-b91d-53e9728b3f36",
   "metadata": {},
   "outputs": [],
   "source": [
    "#df.dropna(inplace=True)\n",
    "#print(df)"
   ]
  },
  {
   "cell_type": "markdown",
   "id": "c7c515bc-d1e6-4543-86c0-ae46b9951bcf",
   "metadata": {},
   "source": [
    "We cant drop missing values because we end up with nothing."
   ]
  },
  {
   "cell_type": "code",
   "execution_count": 100,
   "id": "935ebb9c-1ee8-4e26-8833-2c2d35cebd11",
   "metadata": {},
   "outputs": [
    {
     "name": "stdout",
     "output_type": "stream",
     "text": [
      "Total missing values in the dataset: 31773487\n"
     ]
    }
   ],
   "source": [
    "# Overall missing values\n",
    "total_missing = df.isnull().sum().sum()\n",
    "print(f\"Total missing values in the dataset: {total_missing}\")"
   ]
  },
  {
   "cell_type": "code",
   "execution_count": 101,
   "id": "0f1d450f-8929-483c-b514-65de78f3063a",
   "metadata": {},
   "outputs": [
    {
     "name": "stdout",
     "output_type": "stream",
     "text": [
      "Solar                                 3856100\n",
      "Wind Onshore                          3655620\n",
      "Wind Offshore                         4960010\n",
      "water_reservoirs_and_hydro_storage    5539101\n",
      "energy_price                          2179723\n",
      "biomass                               3528735\n",
      "gas                                   3324045\n",
      "nuclear                               4730153\n",
      "dtype: int64\n"
     ]
    }
   ],
   "source": [
    "# Missing values per column\n",
    "missing_per_column = df.isnull().sum()\n",
    "print(missing_per_column)"
   ]
  },
  {
   "cell_type": "code",
   "execution_count": 102,
   "id": "7db38e7d-8acc-4236-bd66-2a564fad8bf8",
   "metadata": {},
   "outputs": [
    {
     "name": "stdout",
     "output_type": "stream",
     "text": [
      "                             Solar  Wind Onshore  Wind Offshore  \\\n",
      "Date                Country                                       \n",
      "2015-01-01 00:00:00 CH         NaN           NaN            NaN   \n",
      "                    CZ         NaN           NaN            NaN   \n",
      "                    DK_1       NaN           NaN            NaN   \n",
      "                    DK_2       NaN           NaN            NaN   \n",
      "                    EE         NaN           NaN            NaN   \n",
      "...                            ...           ...            ...   \n",
      "2023-12-31 00:00:00 SE_2       NaN           NaN            NaN   \n",
      "                    SE_3       NaN           NaN            NaN   \n",
      "                    SE_4       NaN           NaN            NaN   \n",
      "                    SI         NaN           NaN            NaN   \n",
      "                    SK         NaN           NaN            NaN   \n",
      "\n",
      "                             water_reservoirs_and_hydro_storage  energy_price  \\\n",
      "Date                Country                                                     \n",
      "2015-01-01 00:00:00 CH                                      NaN         44.94   \n",
      "                    CZ                                      NaN         26.48   \n",
      "                    DK_1                                    NaN         25.02   \n",
      "                    DK_2                                    NaN         27.38   \n",
      "                    EE                                      NaN         27.38   \n",
      "...                                                         ...           ...   \n",
      "2023-12-31 00:00:00 SE_2                                    NaN         44.87   \n",
      "                    SE_3                                    NaN         44.87   \n",
      "                    SE_4                                    NaN         44.87   \n",
      "                    SI                                      NaN         33.30   \n",
      "                    SK                                      NaN         35.14   \n",
      "\n",
      "                             biomass    gas  nuclear  \n",
      "Date                Country                           \n",
      "2015-01-01 00:00:00 CH           NaN    NaN      NaN  \n",
      "                    CZ         135.0  172.0   2596.0  \n",
      "                    DK_1        18.0  233.0      NaN  \n",
      "                    DK_2        25.0  304.0      NaN  \n",
      "                    EE           NaN    NaN      NaN  \n",
      "...                              ...    ...      ...  \n",
      "2023-12-31 00:00:00 SE_2         NaN    NaN      NaN  \n",
      "                    SE_3         NaN    NaN      NaN  \n",
      "                    SE_4         NaN    NaN      NaN  \n",
      "                    SI           NaN    NaN      NaN  \n",
      "                    SK           NaN    NaN      NaN  \n",
      "\n",
      "[3371340 rows x 8 columns]\n"
     ]
    }
   ],
   "source": [
    "# Drop rows where the 'energy_price' column has NaN values\n",
    "df_cleaned = df.dropna(subset=['energy_price'])\n",
    "\n",
    "print(df_cleaned)\n"
   ]
  },
  {
   "cell_type": "markdown",
   "id": "74fb1d7b-0cf1-4e01-b03f-f47499b519f5",
   "metadata": {},
   "source": [
    "## missing values"
   ]
  },
  {
   "cell_type": "code",
   "execution_count": 103,
   "id": "faa3b2bd-5d3f-4f0b-a7e2-2fde7faa10a2",
   "metadata": {},
   "outputs": [
    {
     "ename": "TypeError",
     "evalue": "Only valid with DatetimeIndex, TimedeltaIndex or PeriodIndex, but got an instance of 'Index'",
     "output_type": "error",
     "traceback": [
      "\u001b[0;31m---------------------------------------------------------------------------\u001b[0m",
      "\u001b[0;31mTypeError\u001b[0m                                 Traceback (most recent call last)",
      "Cell \u001b[0;32mIn[103], line 7\u001b[0m\n\u001b[1;32m      4\u001b[0m df\u001b[38;5;241m.\u001b[39mreset_index(inplace\u001b[38;5;241m=\u001b[39m\u001b[38;5;28;01mTrue\u001b[39;00m)\n\u001b[1;32m      6\u001b[0m \u001b[38;5;66;03m# Calculate monthly means, grouping by Country and resampling by month start\u001b[39;00m\n\u001b[0;32m----> 7\u001b[0m monthly_means \u001b[38;5;241m=\u001b[39m \u001b[43mdf\u001b[49m\u001b[38;5;241;43m.\u001b[39;49m\u001b[43mgroupby\u001b[49m\u001b[43m(\u001b[49m\u001b[38;5;124;43m'\u001b[39;49m\u001b[38;5;124;43mCountry\u001b[39;49m\u001b[38;5;124;43m'\u001b[39;49m\u001b[43m)\u001b[49m\u001b[38;5;241;43m.\u001b[39;49m\u001b[43mresample\u001b[49m\u001b[43m(\u001b[49m\u001b[38;5;124;43m'\u001b[39;49m\u001b[38;5;124;43mMS\u001b[39;49m\u001b[38;5;124;43m'\u001b[39;49m\u001b[43m,\u001b[49m\u001b[43m \u001b[49m\u001b[43mon\u001b[49m\u001b[38;5;241;43m=\u001b[39;49m\u001b[38;5;124;43m'\u001b[39;49m\u001b[38;5;124;43mDate\u001b[39;49m\u001b[38;5;124;43m'\u001b[39;49m\u001b[43m)\u001b[49m\u001b[38;5;241m.\u001b[39mmean()\n",
      "File \u001b[0;32m~/miniconda3/envs/mllab/lib/python3.12/site-packages/pandas/core/groupby/groupby.py:3743\u001b[0m, in \u001b[0;36mGroupBy.resample\u001b[0;34m(self, rule, include_groups, *args, **kwargs)\u001b[0m\n\u001b[1;32m   3739\u001b[0m \u001b[38;5;28;01mfrom\u001b[39;00m \u001b[38;5;21;01mpandas\u001b[39;00m\u001b[38;5;21;01m.\u001b[39;00m\u001b[38;5;21;01mcore\u001b[39;00m\u001b[38;5;21;01m.\u001b[39;00m\u001b[38;5;21;01mresample\u001b[39;00m \u001b[38;5;28;01mimport\u001b[39;00m get_resampler_for_grouping\n\u001b[1;32m   3741\u001b[0m \u001b[38;5;66;03m# mypy flags that include_groups could be specified via `*args` or `**kwargs`\u001b[39;00m\n\u001b[1;32m   3742\u001b[0m \u001b[38;5;66;03m# GH#54961 would resolve.\u001b[39;00m\n\u001b[0;32m-> 3743\u001b[0m \u001b[38;5;28;01mreturn\u001b[39;00m \u001b[43mget_resampler_for_grouping\u001b[49m\u001b[43m(\u001b[49m\u001b[43m  \u001b[49m\u001b[38;5;66;43;03m# type: ignore[misc]\u001b[39;49;00m\n\u001b[1;32m   3744\u001b[0m \u001b[43m    \u001b[49m\u001b[38;5;28;43mself\u001b[39;49m\u001b[43m,\u001b[49m\u001b[43m \u001b[49m\u001b[43mrule\u001b[49m\u001b[43m,\u001b[49m\u001b[43m \u001b[49m\u001b[38;5;241;43m*\u001b[39;49m\u001b[43margs\u001b[49m\u001b[43m,\u001b[49m\u001b[43m \u001b[49m\u001b[43minclude_groups\u001b[49m\u001b[38;5;241;43m=\u001b[39;49m\u001b[43minclude_groups\u001b[49m\u001b[43m,\u001b[49m\u001b[43m \u001b[49m\u001b[38;5;241;43m*\u001b[39;49m\u001b[38;5;241;43m*\u001b[39;49m\u001b[43mkwargs\u001b[49m\n\u001b[1;32m   3745\u001b[0m \u001b[43m\u001b[49m\u001b[43m)\u001b[49m\n",
      "File \u001b[0;32m~/miniconda3/envs/mllab/lib/python3.12/site-packages/pandas/core/resample.py:2072\u001b[0m, in \u001b[0;36mget_resampler_for_grouping\u001b[0;34m(groupby, rule, how, fill_method, limit, kind, on, include_groups, **kwargs)\u001b[0m\n\u001b[1;32m   2070\u001b[0m \u001b[38;5;66;03m# .resample uses 'on' similar to how .groupby uses 'key'\u001b[39;00m\n\u001b[1;32m   2071\u001b[0m tg \u001b[38;5;241m=\u001b[39m TimeGrouper(freq\u001b[38;5;241m=\u001b[39mrule, key\u001b[38;5;241m=\u001b[39mon, \u001b[38;5;241m*\u001b[39m\u001b[38;5;241m*\u001b[39mkwargs)\n\u001b[0;32m-> 2072\u001b[0m resampler \u001b[38;5;241m=\u001b[39m \u001b[43mtg\u001b[49m\u001b[38;5;241;43m.\u001b[39;49m\u001b[43m_get_resampler\u001b[49m\u001b[43m(\u001b[49m\u001b[43mgroupby\u001b[49m\u001b[38;5;241;43m.\u001b[39;49m\u001b[43mobj\u001b[49m\u001b[43m,\u001b[49m\u001b[43m \u001b[49m\u001b[43mkind\u001b[49m\u001b[38;5;241;43m=\u001b[39;49m\u001b[43mkind\u001b[49m\u001b[43m)\u001b[49m\n\u001b[1;32m   2073\u001b[0m \u001b[38;5;28;01mreturn\u001b[39;00m resampler\u001b[38;5;241m.\u001b[39m_get_resampler_for_grouping(\n\u001b[1;32m   2074\u001b[0m     groupby\u001b[38;5;241m=\u001b[39mgroupby, include_groups\u001b[38;5;241m=\u001b[39minclude_groups, key\u001b[38;5;241m=\u001b[39mtg\u001b[38;5;241m.\u001b[39mkey\n\u001b[1;32m   2075\u001b[0m )\n",
      "File \u001b[0;32m~/miniconda3/envs/mllab/lib/python3.12/site-packages/pandas/core/resample.py:2272\u001b[0m, in \u001b[0;36mTimeGrouper._get_resampler\u001b[0;34m(self, obj, kind)\u001b[0m\n\u001b[1;32m   2263\u001b[0m \u001b[38;5;28;01melif\u001b[39;00m \u001b[38;5;28misinstance\u001b[39m(ax, TimedeltaIndex):\n\u001b[1;32m   2264\u001b[0m     \u001b[38;5;28;01mreturn\u001b[39;00m TimedeltaIndexResampler(\n\u001b[1;32m   2265\u001b[0m         obj,\n\u001b[1;32m   2266\u001b[0m         timegrouper\u001b[38;5;241m=\u001b[39m\u001b[38;5;28mself\u001b[39m,\n\u001b[0;32m   (...)\u001b[0m\n\u001b[1;32m   2269\u001b[0m         gpr_index\u001b[38;5;241m=\u001b[39max,\n\u001b[1;32m   2270\u001b[0m     )\n\u001b[0;32m-> 2272\u001b[0m \u001b[38;5;28;01mraise\u001b[39;00m \u001b[38;5;167;01mTypeError\u001b[39;00m(\n\u001b[1;32m   2273\u001b[0m     \u001b[38;5;124m\"\u001b[39m\u001b[38;5;124mOnly valid with DatetimeIndex, \u001b[39m\u001b[38;5;124m\"\u001b[39m\n\u001b[1;32m   2274\u001b[0m     \u001b[38;5;124m\"\u001b[39m\u001b[38;5;124mTimedeltaIndex or PeriodIndex, \u001b[39m\u001b[38;5;124m\"\u001b[39m\n\u001b[1;32m   2275\u001b[0m     \u001b[38;5;124mf\u001b[39m\u001b[38;5;124m\"\u001b[39m\u001b[38;5;124mbut got an instance of \u001b[39m\u001b[38;5;124m'\u001b[39m\u001b[38;5;132;01m{\u001b[39;00m\u001b[38;5;28mtype\u001b[39m(ax)\u001b[38;5;241m.\u001b[39m\u001b[38;5;18m__name__\u001b[39m\u001b[38;5;132;01m}\u001b[39;00m\u001b[38;5;124m'\u001b[39m\u001b[38;5;124m\"\u001b[39m\n\u001b[1;32m   2276\u001b[0m )\n",
      "\u001b[0;31mTypeError\u001b[0m: Only valid with DatetimeIndex, TimedeltaIndex or PeriodIndex, but got an instance of 'Index'"
     ]
    }
   ],
   "source": [
    "# we need to reset the index temporarily\n",
    "\n",
    "# Reset index to use 'Date' as a column for resampling\n",
    "#df.reset_index(inplace=True)\n",
    "\n",
    "# Calculate monthly means, grouping by Country and resampling by month start\n",
    "# monthly_means = df.groupby('Country').resample('MS', on='Date').mean()\n"
   ]
  },
  {
   "cell_type": "markdown",
   "id": "642bb000-b3b2-4bf8-ac7d-413f5a57328b",
   "metadata": {},
   "source": [
    "## cross-validation using sklearn\n",
    "###### (https://scikit-learn.org/stable/modules/generated/sklearn.model_selection.TimeSeriesSplit.html)\n"
   ]
  },
  {
   "cell_type": "code",
   "execution_count": null,
   "id": "f9e54883-984c-47cc-a711-c3eb75d2496e",
   "metadata": {},
   "outputs": [],
   "source": [
    "# Sample DataFrame\n",
    "\n",
    "# Sort by date\n",
    "df.sort_index(level='Date', inplace=True)\n",
    "\n",
    "X = df_cleaned.drop('energy_price', axis=1)\n",
    "y = df_cleaned['energy_price']\n",
    "\n",
    "# Initialize TimeSeriesSplit\n",
    "tscv = TimeSeriesSplit(n_splits=20)\n",
    "\n",
    "# Apply TimeSeriesSplit to df\n",
    "for i, (train_index, test_index) in enumerate(tscv.split(X)):\n",
    "    X_train, X_test = X.iloc[train_index], X.iloc[test_index]\n",
    "    y_train, y_test = y.iloc[train_index], y.iloc[test_index]\n",
    "\n",
    "    print(f\"Fold {i}:\")\n",
    "    print(f\"  Train Indices: {train_index}\")\n",
    "    print(f\"  Test Indices: {test_index}\")\n"
   ]
  },
  {
   "cell_type": "code",
   "execution_count": null,
   "id": "205e147c-aa3d-475f-ac7b-449706d560b7",
   "metadata": {},
   "outputs": [],
   "source": [
    "# Calculate the covariance matrix for the training data\n",
    "cov_matrix_train = X_train.cov()\n",
    "\n",
    "# Display the covariance matrix for the training data\n",
    "print(\"Covariance Matrix for Training Data:\")\n",
    "print(cov_matrix_train)\n",
    "\n",
    "# Calculate the covariance matrix for the testing data\n",
    "cov_matrix_test = X_test.cov()\n",
    "\n",
    "# Display the covariance matrix for the testing data\n",
    "print(\"Covariance Matrix for Testing Data:\")\n",
    "print(cov_matrix_test)\n"
   ]
  },
  {
   "cell_type": "code",
   "execution_count": null,
   "id": "3e55e691-9286-48e9-8c6d-29fe7d9323bb",
   "metadata": {},
   "outputs": [],
   "source": [
    "# Assuming cov_matrix_train and cov_matrix_test are already computed\n",
    "# Plotting the covariance matrix for training data\n",
    "plt.figure(figsize=(10, 8))\n",
    "sns.heatmap(cov_matrix_train, annot=True, fmt=\".2f\", cmap='coolwarm')\n",
    "plt.title('Covariance Matrix - Training Data')\n",
    "plt.show()\n",
    "\n",
    "# Plotting the covariance matrix for testing data\n",
    "plt.figure(figsize=(10, 8))\n",
    "sns.heatmap(cov_matrix_test, annot=True, fmt=\".2f\", cmap='coolwarm')\n",
    "plt.title('Covariance Matrix - Testing Data')\n",
    "plt.show()\n"
   ]
  },
  {
   "cell_type": "code",
   "execution_count": null,
   "id": "5acaa65c-9546-4add-b43d-cb467e9ea89e",
   "metadata": {},
   "outputs": [],
   "source": [
    "## linear model"
   ]
  },
  {
   "cell_type": "code",
   "execution_count": null,
   "id": "588eba18-eb86-4bca-8689-174443a42426",
   "metadata": {},
   "outputs": [],
   "source": [
    "# Initialize the Linear Regression model\n",
    "model = LinearRegression()\n",
    "\n",
    "# Fit the model to the training data\n",
    "model.fit(X_train, y_train)\n"
   ]
  }
 ],
 "metadata": {
  "kernelspec": {
   "display_name": "Python 3 (ipykernel)",
   "language": "python",
   "name": "python3"
  },
  "language_info": {
   "codemirror_mode": {
    "name": "ipython",
    "version": 3
   },
   "file_extension": ".py",
   "mimetype": "text/x-python",
   "name": "python",
   "nbconvert_exporter": "python",
   "pygments_lexer": "ipython3",
   "version": "3.12.1"
  }
 },
 "nbformat": 4,
 "nbformat_minor": 5
}
