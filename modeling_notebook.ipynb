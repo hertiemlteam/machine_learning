{
 "cells": [
  {
   "cell_type": "markdown",
   "metadata": {},
   "source": [
    "# Running models and cross validation "
   ]
  },
  {
   "cell_type": "code",
   "execution_count": 2,
   "metadata": {},
   "outputs": [
    {
     "name": "stderr",
     "output_type": "stream",
     "text": [
      "C:\\Users\\luisf\\AppData\\Local\\Temp\\ipykernel_18988\\4088898045.py:1: DeprecationWarning: \n",
      "Pyarrow will become a required dependency of pandas in the next major release of pandas (pandas 3.0),\n",
      "(to allow more performant data types, such as the Arrow string type, and better interoperability with other libraries)\n",
      "but was not found to be installed on your system.\n",
      "If this would cause problems for you,\n",
      "please provide us feedback at https://github.com/pandas-dev/pandas/issues/54466\n",
      "        \n",
      "  import pandas as pd\n"
     ]
    }
   ],
   "source": [
    "import pandas as pd\n",
    "import numpy as np\n",
    "import seaborn as sns\n",
    "import matplotlib.pyplot as plt\n",
    "from termcolor import colored\n",
    "from sklearn.preprocessing import StandardScaler\n",
    "from sklearn.model_selection import train_test_split, GridSearchCV, cross_val_score, KFold\n",
    "from sklearn import metrics"
   ]
  },
  {
   "cell_type": "code",
   "execution_count": 2,
   "metadata": {},
   "outputs": [],
   "source": [
    "#Time series split\n",
    "from sklearn.model_selection import TimeSeriesSplit\n",
    "from sklearn.metrics import mean_squared_error\n",
    "import statsmodels.api as sm"
   ]
  },
  {
   "cell_type": "code",
   "execution_count": null,
   "metadata": {},
   "outputs": [],
   "source": [
    "df = pd.read_csv('')"
   ]
  },
  {
   "cell_type": "code",
   "execution_count": null,
   "metadata": {},
   "outputs": [],
   "source": [
    "# Separating features and target variable\n",
    "X = df(['Price'], axis=1)\n",
    "y = df['Price']"
   ]
  },
  {
   "cell_type": "code",
   "execution_count": null,
   "metadata": {},
   "outputs": [],
   "source": [
    "X_train, X_test, y_train, y_test = train_test_split(X, y, test_size=0.2, random_state=42)\n"
   ]
  },
  {
   "cell_type": "markdown",
   "metadata": {},
   "source": [
    "## Cross validation"
   ]
  },
  {
   "cell_type": "code",
   "execution_count": null,
   "metadata": {},
   "outputs": [],
   "source": [
    "tscv = TimeSeriesSplit(n_splits=5)"
   ]
  },
  {
   "cell_type": "markdown",
   "metadata": {},
   "source": [
    "Iterate through cross validation"
   ]
  },
  {
   "cell_type": "code",
   "execution_count": null,
   "metadata": {},
   "outputs": [],
   "source": [
    "for train_index, test_index in tscv.split(data):\n",
    "    train_data, test_data = data.iloc[train_index], data.iloc[test_index]"
   ]
  },
  {
   "cell_type": "markdown",
   "metadata": {},
   "source": [
    "Create the dataframe "
   ]
  },
  {
   "cell_type": "code",
   "execution_count": 3,
   "metadata": {},
   "outputs": [],
   "source": [
    "df1 = pd.read_csv('merged_luisfer.CSV')\n",
    "df2 = pd.read_csv('merged_isabella.csv')\n",
    "df3 = pd.read_csv('merged_camilo.csv')"
   ]
  },
  {
   "cell_type": "code",
   "execution_count": 8,
   "metadata": {},
   "outputs": [
    {
     "name": "stdout",
     "output_type": "stream",
     "text": [
      "(705212, 6)\n",
      "(1048575, 6)\n",
      "(1048575, 6)\n"
     ]
    }
   ],
   "source": [
    "print(df1.shape)\n",
    "print(df2.shape)\n",
    "print(df3.shape)"
   ]
  },
  {
   "cell_type": "code",
   "execution_count": 5,
   "metadata": {},
   "outputs": [],
   "source": [
    "df_concatenated = pd.concat([df1, df2, df3], ignore_index=True)"
   ]
  },
  {
   "cell_type": "code",
   "execution_count": 9,
   "metadata": {},
   "outputs": [
    {
     "name": "stdout",
     "output_type": "stream",
     "text": [
      "(2802362, 7)\n"
     ]
    }
   ],
   "source": [
    "print(df_concatenated.shape)"
   ]
  },
  {
   "cell_type": "code",
   "execution_count": 6,
   "metadata": {},
   "outputs": [
    {
     "name": "stdout",
     "output_type": "stream",
     "text": [
      "  Unnamed: 0                       Date  Solar  Wind Onshore country_index  \\\n",
      "0          0  2015-01-01 00:00:00+01:00    0.0         118.0            AT   \n",
      "1          1  2015-01-01 00:15:00+01:00    0.0         118.0            AT   \n",
      "2          2  2015-01-01 00:30:00+01:00    0.0         117.0            AT   \n",
      "3          3  2015-01-01 00:45:00+01:00    0.0         116.0            AT   \n",
      "4          4  2015-01-01 01:00:00+01:00    0.0         146.0            AT   \n",
      "\n",
      "   Wind Offshore  Unnamed: 0.1  \n",
      "0            NaN           NaN  \n",
      "1            NaN           NaN  \n",
      "2            NaN           NaN  \n",
      "3            NaN           NaN  \n",
      "4            NaN           NaN  \n",
      "                        Unnamed: 0 Date  Solar  Wind Onshore country_index  \\\n",
      "2802357  2021-09-01 07:00:00+02:00  NaN   65.0           3.0       IT_CNOR   \n",
      "2802358  2021-09-01 08:00:00+02:00  NaN  271.0           4.0       IT_CNOR   \n",
      "2802359  2021-09-01 09:00:00+02:00  NaN  509.0           4.0       IT_CNOR   \n",
      "2802360  2021-09-01 10:00:00+02:00  NaN  684.0           6.0       IT_CNOR   \n",
      "2802361  2021-09-01 11:00:00+02:00  NaN  784.0           3.0       IT_CNOR   \n",
      "\n",
      "         Wind Offshore  Unnamed: 0.1  \n",
      "2802357            NaN       58440.0  \n",
      "2802358            NaN       58441.0  \n",
      "2802359            NaN       58442.0  \n",
      "2802360            NaN       58443.0  \n",
      "2802361            NaN       58444.0  \n"
     ]
    }
   ],
   "source": [
    "print(df_concatenated.head())\n",
    "print(df_concatenated.tail()) "
   ]
  },
  {
   "cell_type": "code",
   "execution_count": 10,
   "metadata": {},
   "outputs": [],
   "source": [
    "df_concatenated.to_csv('all_merged.csv', index=False)"
   ]
  }
 ],
 "metadata": {
  "kernelspec": {
   "display_name": "MLLab",
   "language": "python",
   "name": "python3"
  },
  "language_info": {
   "codemirror_mode": {
    "name": "ipython",
    "version": 3
   },
   "file_extension": ".py",
   "mimetype": "text/x-python",
   "name": "python",
   "nbconvert_exporter": "python",
   "pygments_lexer": "ipython3",
   "version": "3.12.1"
  }
 },
 "nbformat": 4,
 "nbformat_minor": 2
}
